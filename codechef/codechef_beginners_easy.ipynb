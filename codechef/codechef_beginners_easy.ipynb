{
 "cells": [
  {
   "cell_type": "markdown",
   "id": "4a6f9877-d946-4c32-bc5e-8a2cb01f17a6",
   "metadata": {},
   "source": [
    "## [SQUATS](https://www.codechef.com/problems/SQUATS)"
   ]
  },
  {
   "cell_type": "code",
   "execution_count": null,
   "id": "6abc6db6-1302-47d5-8ab3-89175a37d6e7",
   "metadata": {
    "scrolled": true
   },
   "outputs": [],
   "source": [
    "T = int(input('no of testcase'))\n",
    "for _ in range(T):\n",
    "    no_of_set = int(input('no of set'))\n",
    "    no_of_squat = no_of_set * 15\n",
    "    print(no_of_squat)"
   ]
  },
  {
   "cell_type": "markdown",
   "id": "bac5b4fb-2464-4313-93ec-52f64bd5ef61",
   "metadata": {},
   "source": [
    "## [TAXSAVING](https://www.codechef.com/problems/TAXSAVING)\n",
    "---"
   ]
  },
  {
   "cell_type": "code",
   "execution_count": null,
   "id": "932dd0ef-db0a-4b5c-b1b8-ec2bf1d67336",
   "metadata": {},
   "outputs": [],
   "source": [
    "# cook your dish here\n",
    "T = int(input())\n",
    "for _ in range(T):\n",
    "    income, min_tax_income = map(int, input().split())\n",
    "    amount_to_invest = income - min_tax_income\n",
    "    print(amount_to_invest)"
   ]
  },
  {
   "cell_type": "markdown",
   "id": "1ea74ecd-1c10-427b-8fac-f4cb2db11a31",
   "metadata": {},
   "source": [
    "## [WATERCONS](https://www.codechef.com/problems/WATERCONS)"
   ]
  },
  {
   "cell_type": "code",
   "execution_count": null,
   "id": "0de9ac10-760d-484d-8fe1-e96c9e9907a4",
   "metadata": {},
   "outputs": [],
   "source": [
    "# cook your dish here\n",
    "T = int(input())\n",
    "for _ in range(T):\n",
    "    x = int(input())\n",
    "    print('YES') if  x >= 2000 else print('NO')"
   ]
  },
  {
   "cell_type": "markdown",
   "id": "40f8266a-c8af-4985-9adb-f5d482ea6f0a",
   "metadata": {},
   "source": [
    "## Chess match [BLITZ3_2](https://www.codechef.com/problems/BLITZ3_2)"
   ]
  },
  {
   "cell_type": "code",
   "execution_count": null,
   "id": "152d4ee5-8158-48c1-867b-c26ba5277746",
   "metadata": {},
   "outputs": [],
   "source": [
    "# cook your dish here\n",
    "T = int(input())\n",
    "\n",
    "for _ in range(T):\n",
    "    N, A, B = map(int, input().split())\n",
    "    total_time_left = A + B\n",
    "    total_time_given = 2*(180+N)\n",
    "    print(total_time_given - total_time_left)"
   ]
  },
  {
   "cell_type": "markdown",
   "id": "5989d7c6-7903-4748-893f-7c0f4c91b4c0",
   "metadata": {},
   "source": [
    "## Lucky Four [LUCKYFR](https://www.codechef.com/problems/LUCKYFR)"
   ]
  },
  {
   "cell_type": "code",
   "execution_count": null,
   "id": "a671b15e",
   "metadata": {},
   "outputs": [],
   "source": [
    "# cook your dish here\n",
    "for _ in range(int(input())):\n",
    "    print(input().count('4'))"
   ]
  },
  {
   "cell_type": "markdown",
   "id": "66ad9ea6",
   "metadata": {},
   "source": [
    "## Kitchen Timetable [KTTABLE](https://www.codechef.com/problems/KTTABLE)"
   ]
  },
  {
   "cell_type": "code",
   "execution_count": null,
   "id": "489ee4c0",
   "metadata": {},
   "outputs": [],
   "source": [
    "# cook your dish here\n",
    "for _ in range(int(input())):\n",
    "    no_of_children = int(input())\n",
    "    allocated_time = list(map(int, input().split()))\n",
    "    required_time = list(map(int, input().split()))\n",
    "    can_do = 0\n",
    "    for i in range(no_of_children):\n",
    "        if (i==0):\n",
    "            if  required_time[i]<=allocated_time[i] :\n",
    "                can_do += 1\n",
    "        else:\n",
    "            if required_time[i]<=allocated_time[i] - allocated_time[i-1]:\n",
    "                can_do += 1\n",
    "    print(can_do)\n",
    "            "
   ]
  },
  {
   "cell_type": "markdown",
   "id": "7a3b682e",
   "metadata": {},
   "source": [
    "## Balls and Boxes [BALLBOX](https://www.codechef.com/problems/BALLBOX)"
   ]
  },
  {
   "cell_type": "code",
   "execution_count": null,
   "id": "9dbcf6ac",
   "metadata": {},
   "outputs": [],
   "source": [
    "for _ in range(int(input())):\n",
    "    n,k = map(int,input().split())\n",
    "    req = k*(k+1)//2\n",
    "    if n>=req:\n",
    "        print('YES')\n",
    "    else:\n",
    "        print(\"NO\")"
   ]
  },
  {
   "cell_type": "markdown",
   "id": "8159f6e7",
   "metadata": {},
   "source": [
    "## Dark Light [DARLIG](https://www.codechef.com/problems/DARLIG)"
   ]
  },
  {
   "cell_type": "code",
   "execution_count": null,
   "id": "0069bf12",
   "metadata": {},
   "outputs": [],
   "source": [
    "# cook your dish here\n",
    "for _ in range(int(input())):\n",
    "    n, k = map(int, input().split())\n",
    "    if (k == 0):\n",
    "        if (n % 4 != 0):\n",
    "            print(\"ON\")\n",
    "        else:\n",
    "            print(\"OFF\")\n",
    "    else:\n",
    "        if (n % 4 != 0):\n",
    "            print(\"AMBIGUOUS\")\n",
    "        else:\n",
    "            print(\"ON\")"
   ]
  },
  {
   "cell_type": "markdown",
   "id": "bc7aa205",
   "metadata": {},
   "source": [
    "## DDMM or MMDD [DDMMORMMDD](https://www.codechef.com/problems/DDMMORMMDD)"
   ]
  },
  {
   "cell_type": "code",
   "execution_count": null,
   "id": "0bd05fef",
   "metadata": {},
   "outputs": [],
   "source": [
    "# cook your dish here\n",
    "for _ in range(int(input())):\n",
    "    day, month, year = map(int, input().split('/'))\n",
    "    if day <= 12:\n",
    "        if month <= 12:\n",
    "            print('BOTH')\n",
    "        else:\n",
    "            print('MM/DD/YYYY')\n",
    "    else:\n",
    "        print('DD/MM/YYYY')\n",
    "        "
   ]
  },
  {
   "cell_type": "markdown",
   "id": "f468c97a",
   "metadata": {},
   "source": [
    "## Keplers Law [KEPLERSLAW](https://www.codechef.com/problems/KEPLERSLAW)"
   ]
  },
  {
   "cell_type": "code",
   "execution_count": null,
   "id": "c0981d0e",
   "metadata": {},
   "outputs": [],
   "source": [
    "# cook your dish here\n",
    "for _ in range(int(input())):\n",
    "    t1, t2, r1, r2 = map(int, input().split())\n",
    "    if (t1**2/r1**3) == (t2**2/r2**3):\n",
    "        print('Yes')\n",
    "    else:\n",
    "        print('No')"
   ]
  },
  {
   "cell_type": "markdown",
   "id": "39bc91d4",
   "metadata": {},
   "source": [
    "## Game between friends [FRGAME](https://www.codechef.com/problems/FRGAME)"
   ]
  },
  {
   "cell_type": "code",
   "execution_count": null,
   "id": "acaff46f",
   "metadata": {},
   "outputs": [],
   "source": [
    "# cook your dish here\n",
    "for i in range(int(input())):\n",
    "    a,b,c,d=map(int,input().split())\n",
    "    for i in range(2):\n",
    "        if(a>=b):\n",
    "            b+=c\n",
    "            c=d\n",
    "        else:\n",
    "            a+=c\n",
    "            c=d\n",
    "    if(a>=b):\n",
    "        print('N')\n",
    "    else:print('S')"
   ]
  },
  {
   "cell_type": "markdown",
   "id": "7ad03179",
   "metadata": {},
   "source": [
    "## Naive Chef [NAICHEF](https://www.codechef.com/problems/NAICHEF)\n",
    "need probability knowledge"
   ]
  },
  {
   "cell_type": "code",
   "execution_count": null,
   "id": "4a6b62db",
   "metadata": {},
   "outputs": [],
   "source": [
    "# cook your dish here\n",
    "for i in range(int(input())):\n",
    "    n, a, b = map(int,input().split())\n",
    "    no = list( map(int,input().split()) )\n",
    "    a_no = no.count(a)\n",
    "    b_no = no.count(b)\n",
    "    res = ( (a_no*b_no)/n**2)\n",
    "    print(res)"
   ]
  },
  {
   "cell_type": "markdown",
   "id": "b38555f7",
   "metadata": {},
   "source": [
    "## Can_Reach [CAN_REACH](https://www.codechef.com/problems/CAN_REACH)\n",
    "good question for me.. i was doing wrong. thinked wrongly for first time. only when looked at logic only came to know the fault"
   ]
  },
  {
   "cell_type": "code",
   "execution_count": null,
   "id": "938d1b6b",
   "metadata": {},
   "outputs": [],
   "source": [
    "# cook your dish here\n",
    "for i in range(int(input())):\n",
    "    x, y, k = map(int,input().split())\n",
    "    if abs(x)%k != 0 or abs(y)%k!=0:\n",
    "        print('NO')\n",
    "    else:\n",
    "        print('YES')"
   ]
  },
  {
   "cell_type": "markdown",
   "id": "160516ff",
   "metadata": {},
   "source": [
    "## Vishesh and his Popcorn Combo [POPCORN](https://www.codechef.com/problems/POPCORN)"
   ]
  },
  {
   "cell_type": "code",
   "execution_count": null,
   "id": "477057ae",
   "metadata": {},
   "outputs": [],
   "source": [
    "# cook your dish here\n",
    "for _ in range(int(input())):\n",
    "    a = list(map(int, input().split()))\n",
    "    b = list(map(int, input().split()))\n",
    "    c = list(map(int, input().split()))\n",
    "    \n",
    "    print(max(sum(a), sum(b), sum(c)))"
   ]
  },
  {
   "cell_type": "markdown",
   "id": "1a9d4d9a",
   "metadata": {},
   "source": [
    "## Chef Judges a Competition [CO92JUDG](https://www.codechef.com/problems/CO92JUDG)"
   ]
  },
  {
   "cell_type": "code",
   "execution_count": null,
   "id": "35e0880c",
   "metadata": {},
   "outputs": [],
   "source": [
    "# cook your dish here\n",
    "for _ in range(int(input())):\n",
    "    n = int(input())\n",
    "    alice = list(map(int, input().split()))\n",
    "    bob = list(map(int, input().split()))\n",
    "    alice.remove(max(alice))\n",
    "    bob.remove(max(bob))\n",
    "    if sum(bob) == sum(alice):\n",
    "        print('Draw')\n",
    "    elif sum(bob) > sum(alice):\n",
    "        print('Alice')\n",
    "    else:\n",
    "        print('Bob')"
   ]
  },
  {
   "cell_type": "markdown",
   "id": "87130343",
   "metadata": {},
   "source": [
    "## Red Light, Green Light [DOLL](https://www.codechef.com/problems/DOLL)"
   ]
  },
  {
   "cell_type": "code",
   "execution_count": null,
   "id": "82aa9dba",
   "metadata": {},
   "outputs": [],
   "source": [
    "# cook your dish here\n",
    "for _ in range(int(input())):\n",
    "    n, k = map(int, input().split())\n",
    "    players = list(map(int, input().split()))\n",
    "    shoot =0\n",
    "    for player in players:\n",
    "        if player > k:\n",
    "            shoot +=1\n",
    "    print(shoot)"
   ]
  },
  {
   "cell_type": "markdown",
   "id": "ade61deb",
   "metadata": {},
   "source": [
    "## Chef and Lockout Draws [LOCKDRAW](https://www.codechef.com/problems/LOCKDRAW)"
   ]
  },
  {
   "cell_type": "code",
   "execution_count": null,
   "id": "9a3a6d8c",
   "metadata": {},
   "outputs": [],
   "source": [
    "# cook your dish here\n",
    "for _ in range(int(input())):\n",
    "    points = list(map(int, input().split()))\n",
    "    maxi = max(points)\n",
    "    points.remove(maxi)\n",
    "    if sum(points) == maxi:\n",
    "        print('YES')\n",
    "    else:\n",
    "        print('NO')"
   ]
  },
  {
   "cell_type": "markdown",
   "id": "86c81d33",
   "metadata": {},
   "source": [
    "## Bomb the base [BOMBTHEBASE](https://www.codechef.com/problems/BOMBTHEBASE)"
   ]
  },
  {
   "cell_type": "code",
   "execution_count": null,
   "id": "74fc2af9",
   "metadata": {},
   "outputs": [],
   "source": [
    "# cook your dish here\n",
    "for _ in range(int(input())):\n",
    "    n, x = map(int, input().split())\n",
    "    houses = list(map(int, input().split()))\n",
    "    max_houses = 0\n",
    "    for index, value in enumerate(reversed(houses)):\n",
    "        if value < x:\n",
    "            max_houses = n - index\n",
    "            break\n",
    "    print(max_houses)\n",
    "    "
   ]
  },
  {
   "cell_type": "markdown",
   "id": "f62593de",
   "metadata": {},
   "source": [
    "## Play Piano [PLAYPIAN](https://www.codechef.com/problems/PLAYPIAN)"
   ]
  },
  {
   "cell_type": "code",
   "execution_count": null,
   "id": "8996c66d",
   "metadata": {},
   "outputs": [],
   "source": [
    "# cook your dish here\n",
    "for _ in range(int(input())):\n",
    "    log = input()\n",
    "    result = 'yes'\n",
    "    for index, value in enumerate(log):\n",
    "        if index%2 == 0:\n",
    "            if value == 'A':\n",
    "                if log[index+1] != 'B' :\n",
    "                    result = 'no'\n",
    "                    break\n",
    "            else:\n",
    "                if log[index+1] != 'A' :\n",
    "                    result = 'no'\n",
    "                    break\n",
    "    print(result)\n",
    "                "
   ]
  },
  {
   "cell_type": "markdown",
   "id": "376d713c",
   "metadata": {},
   "source": [
    "## Divisible by 3 [MODULO3](https://www.codechef.com/problems/MODULO3)\n",
    "good question... i was not able to find the solutuion.. seems easy only"
   ]
  },
  {
   "cell_type": "code",
   "execution_count": null,
   "id": "2ced6708",
   "metadata": {},
   "outputs": [],
   "source": [
    "# cook your dish here\n",
    "for _ in range(int(input())):\n",
    "    a, b = map(int, input().split())\n",
    "    c = 0\n",
    "    while a%3!=0 and b%3!=0:\n",
    "        diff = abs(a-b)\n",
    "        if a>b:\n",
    "            a = diff\n",
    "        else:\n",
    "            b = diff\n",
    "        c += 1\n",
    "    print(c)\n",
    "        "
   ]
  },
  {
   "cell_type": "markdown",
   "id": "baea8189",
   "metadata": {},
   "source": [
    "## Joining Date [JOINING](https://www.codechef.com/problems/JOINING)\n",
    "i used my brain here :)"
   ]
  },
  {
   "cell_type": "code",
   "execution_count": null,
   "id": "7bf3e1bd",
   "metadata": {},
   "outputs": [],
   "source": [
    "# cook your dish here\n",
    "import math\n",
    "\n",
    "for _ in range(int(input())):\n",
    "    n, k = map(int, input().split())\n",
    "    result = math.ceil(n/5) - math.ceil(k/5)\n",
    "    print(result)\n",
    "    "
   ]
  },
  {
   "cell_type": "markdown",
   "id": "165d611d",
   "metadata": {},
   "source": [
    "## Fill The Grid [GRIDBL](https://www.codechef.com/problems/GRIDBL)\n",
    "\n",
    "didn't think like the ans i copied. it was some what similar. but was looking for general formula. didn't come up with last else block.\n",
    "instead of bitwise operation i was doing with int operation using %"
   ]
  },
  {
   "cell_type": "code",
   "execution_count": null,
   "id": "0120d180",
   "metadata": {},
   "outputs": [],
   "source": [
    "# cook your dish here\n",
    "t=int(input())\n",
    "while(t):\n",
    "    n,m=map(int,input().split())\n",
    "    if(n&1==0 and m&1==0):\n",
    "        print(0)\n",
    "    elif(n&1==0):\n",
    "        print(n)\n",
    "    elif(m&1==0):\n",
    "        print(m)\n",
    "    else:\n",
    "        print((m+n)-1)\n",
    "    t=t-1"
   ]
  },
  {
   "cell_type": "markdown",
   "id": "2aaeb0d0",
   "metadata": {},
   "source": [
    "## Cricket Ranking [CRICRANK](https://www.codechef.com/problems/CRICRANK)"
   ]
  },
  {
   "cell_type": "code",
   "execution_count": null,
   "id": "93d46468",
   "metadata": {},
   "outputs": [],
   "source": [
    "# cook your dish here\n",
    "for _ in range(int(input())):\n",
    "    r1, w1, c1 = map(int, input().split())\n",
    "    r2, w2, c2 = map(int, input().split())\n",
    "    a, b = 0, 0\n",
    "    \n",
    "    if r1 > r2: a += 1\n",
    "    else: b+= 1\n",
    "        \n",
    "    if w1 > w2: a += 1\n",
    "    else: b+= 1\n",
    "        \n",
    "    if c1 > c2: a += 1\n",
    "    else: b+= 1\n",
    "    \n",
    "    if a> b: print('A')\n",
    "    else: print('B')\n",
    "    "
   ]
  },
  {
   "cell_type": "markdown",
   "id": "8746c5f4",
   "metadata": {},
   "source": [
    "## Judging Delay [JDELAY](https://www.codechef.com/problems/JDELAY)"
   ]
  },
  {
   "cell_type": "code",
   "execution_count": null,
   "id": "2570dae7",
   "metadata": {},
   "outputs": [],
   "source": [
    "# cook your dish here\n",
    "for _ in range(int(input())):\n",
    "    n = int(input())\n",
    "    count = 0\n",
    "    for i in range (n):\n",
    "        s, j = map(int, input().split())\n",
    "        if j-s > 5: count += 1\n",
    "    print(count)\n",
    "        "
   ]
  },
  {
   "cell_type": "markdown",
   "id": "efd9707a",
   "metadata": {},
   "source": [
    "## The Begining Era Of Cyberverse [CYBV](https://www.codechef.com/problems/CYBV)"
   ]
  },
  {
   "cell_type": "code",
   "execution_count": null,
   "id": "185c8ede",
   "metadata": {},
   "outputs": [],
   "source": [
    "# cook your dish here\n",
    "for _ in range(int(input())):\n",
    "    a, b = map(int, input().split())\n",
    "    print(b//a)"
   ]
  },
  {
   "cell_type": "markdown",
   "id": "e233a8f1",
   "metadata": {},
   "source": [
    "## Blobby Volley Scores [BLOBBYVOLLEY](https://www.codechef.com/problems/BLOBBYVOLLEY)"
   ]
  },
  {
   "cell_type": "code",
   "execution_count": null,
   "id": "f4e86ece",
   "metadata": {},
   "outputs": [],
   "source": [
    "# cook your dish here\n",
    "for _ in range(int(input())):\n",
    "    n = int(input())\n",
    "    s = input()\n",
    "    server, receiver = 'Alice', 'Bob'\n",
    "    a, b = 0,0\n",
    "    for win in s:\n",
    "        if server=='Alice':\n",
    "            if win=='A':\n",
    "                a += 1\n",
    "            else:\n",
    "                server='Bob'\n",
    "        else:\n",
    "            if win=='B':\n",
    "                b += 1\n",
    "            else:\n",
    "                server='Alice'\n",
    "    print(f'{a} {b}') "
   ]
  },
  {
   "cell_type": "markdown",
   "id": "db00b667",
   "metadata": {},
   "source": [
    "## Puppy and Sum [PPSUM](https://www.codechef.com/problems/PPSUM)"
   ]
  },
  {
   "cell_type": "code",
   "execution_count": null,
   "id": "b05ee01d",
   "metadata": {},
   "outputs": [],
   "source": [
    "# cook your dish here\n",
    "for _ in range(int(input())):\n",
    "    d, n = map(int, input().split())\n",
    "    c = 0\n",
    "    for i in range(d):\n",
    "        c = (n*(n+1))//2\n",
    "        n =c\n",
    "    print(c)"
   ]
  },
  {
   "cell_type": "markdown",
   "id": "5c16c6c3",
   "metadata": {},
   "source": [
    "## Difficulty Rating Order [RATINGINPRAC](https://www.codechef.com/practice/PPYAR01/problems/RATINGINPRAC)"
   ]
  },
  {
   "cell_type": "code",
   "execution_count": 6,
   "id": "221c543b",
   "metadata": {},
   "outputs": [
    {
     "name": "stdout",
     "output_type": "stream",
     "text": [
      "[3, 2, 4, 5]\n",
      "[3, 2, 4, 5]\n",
      "True\n"
     ]
    }
   ],
   "source": [
    "# cook your dish here\n",
    "for _ in range(int(input())):\n",
    "    n = input().split()\n",
    "    rating = list(map(int, input().split()))\n",
    "    sorted_list = sorted(rating)\n",
    "    if rating==sorted_list:\n",
    "        print('Yes')\n",
    "    else:\n",
    "        print('No')"
   ]
  },
  {
   "cell_type": "markdown",
   "id": "5456c225",
   "metadata": {},
   "source": [
    "## Cost of Groceries [KITCHENCOST](https://www.codechef.com/practice/PPYAR01/problems/KITCHENCOST)"
   ]
  },
  {
   "cell_type": "code",
   "execution_count": null,
   "id": "c82d94dd",
   "metadata": {},
   "outputs": [],
   "source": [
    "# cook your dish here\n",
    "for _ in range(int(input())):\n",
    "    n, x = map(int, input().split())\n",
    "    a = list(map(int, input().split()))\n",
    "    b = list(map(int, input().split()))\n",
    "    total_cost = 0\n",
    "    for i in range(n):\n",
    "        if a[i] >= x:\n",
    "            total_cost += b[i]\n",
    "    print(total_cost)"
   ]
  },
  {
   "cell_type": "markdown",
   "id": "e9921255",
   "metadata": {},
   "source": [
    "## Running Comparison [RUNCOMPARE](https://www.codechef.com/practice/PPYAR01/problems/RUNCOMPARE)"
   ]
  },
  {
   "cell_type": "code",
   "execution_count": null,
   "id": "cb6ca351",
   "metadata": {},
   "outputs": [],
   "source": [
    "# cook your dish here\n",
    "for _ in range(int(input())):\n",
    "    n = int(input())\n",
    "    a = list(map(int, input().split()))\n",
    "    b = list(map(int, input().split()))\n",
    "    both_happy = 0\n",
    "    for i in range(n):\n",
    "        if a[i] <= 2*b[i] and b[i] <= 2*a[i]:\n",
    "            both_happy += 1\n",
    "    print(both_happy)"
   ]
  },
  {
   "cell_type": "markdown",
   "id": "e8572352",
   "metadata": {},
   "source": [
    "## Largest and Second Largest [LARGESECOND](https://www.codechef.com/practice/PPYAR01/problems/LARGESECOND)"
   ]
  },
  {
   "cell_type": "code",
   "execution_count": 14,
   "id": "e64efd1a",
   "metadata": {},
   "outputs": [
    {
     "name": "stdout",
     "output_type": "stream",
     "text": [
      "18\n"
     ]
    }
   ],
   "source": [
    "# cook your dish here\n",
    "for _ in range(int(input())):\n",
    "    n = int(input())\n",
    "    a = list(set(map(int, input().split())))\n",
    "    a.sort(reverse=True)\n",
    "    print(a[0]+a[1])"
   ]
  },
  {
   "cell_type": "markdown",
   "id": "535a0997",
   "metadata": {},
   "source": [
    "## CodeChef Streak [CS2023_STK](https://www.codechef.com/practice/PPYAR01/problems/CS2023_STK)"
   ]
  },
  {
   "cell_type": "code",
   "execution_count": 35,
   "id": "83a1568e",
   "metadata": {},
   "outputs": [
    {
     "name": "stdout",
     "output_type": "stream",
     "text": [
      "['1 2 3 ', ' 4 5']\n",
      "['123', '45']\n"
     ]
    }
   ],
   "source": [
    "# cook your dish here\n",
    "def solve(s):\n",
    "    streak = 0\n",
    "    max_streak = 0\n",
    "    for i in s:\n",
    "        if i==0:\n",
    "            if max_streak < streak:\n",
    "                max_streak = streak\n",
    "            else:\n",
    "                streak = 0\n",
    "            temp = 0\n",
    "        if i!=0 :\n",
    "            streak += 1\n",
    "        if max_streak < streak:\n",
    "                max_streak = streak\n",
    "    return max_streak\n",
    "    \n",
    "    \n",
    "for _ in range(int(input())):\n",
    "    n = int(input())\n",
    "    a = list(map(int, input().split()))\n",
    "    b = list(map(int, input().split()))\n",
    "    result_a=solve(a)\n",
    "    result_b=solve(b)\n",
    "    if result_a == result_b:\n",
    "        print('Draw')\n",
    "    elif result_a > result_b:\n",
    "        print('Om')\n",
    "    else:\n",
    "        print('Addy')\n",
    "    \n",
    "\n",
    "        "
   ]
  },
  {
   "cell_type": "markdown",
   "id": "a3aaf8d3",
   "metadata": {},
   "source": [
    "## Chef and Cook-Off [CCOOK](https://www.codechef.com/problems/CCOOK)"
   ]
  },
  {
   "cell_type": "code",
   "execution_count": null,
   "id": "8111100e",
   "metadata": {},
   "outputs": [],
   "source": [
    "# cook your dish here\n",
    "for _ in range(int(input())):\n",
    "    n = list(map(int, input().split()))\n",
    "    res = ['Beginner','Junior Developer', 'Middle Developer', 'Senior Developer','Hacker','Jeff Dean']\n",
    "    print(res[n.count(1)])"
   ]
  },
  {
   "cell_type": "markdown",
   "id": "4cd1b5b5",
   "metadata": {},
   "source": [
    "## Avoid Squares Please [AVDSQUARPLZ](https://www.codechef.com/problems/AVDSQUARPLZ)\n",
    "weird question and answer to me"
   ]
  },
  {
   "cell_type": "code",
   "execution_count": null,
   "id": "ad35239c",
   "metadata": {},
   "outputs": [],
   "source": [
    "# cook your dish here\n",
    "for _ in range(int(input())):\n",
    "    n = int(input())\n",
    "    print(*range(1,n+1))"
   ]
  },
  {
   "cell_type": "markdown",
   "id": "65036f16",
   "metadata": {},
   "source": [
    "## Can You Eat It [COMPCAND](https://www.codechef.com/problems/COMPCAND)"
   ]
  },
  {
   "cell_type": "code",
   "execution_count": null,
   "id": "24dca0f3",
   "metadata": {},
   "outputs": [],
   "source": [
    "# cook your dish here\n",
    "for _ in range(int(input())):\n",
    "    a, b = map(int, input().split())\n",
    "    if a%b==0:\n",
    "        print(a//b)\n",
    "    else:\n",
    "        print(-1)"
   ]
  },
  {
   "cell_type": "markdown",
   "id": "d4d4b928",
   "metadata": {},
   "source": [
    "## Two Rooks [TWOROOKS](https://www.codechef.com/problems/TWOROOKS)"
   ]
  },
  {
   "cell_type": "code",
   "execution_count": 17,
   "id": "a5974dcf",
   "metadata": {},
   "outputs": [
    {
     "name": "stdout",
     "output_type": "stream",
     "text": [
      "NO\n"
     ]
    }
   ],
   "source": [
    "# cook your dish here\n",
    "for _ in range(int(input())):\n",
    "    a = list(map(int, input().split()))\n",
    "    if a[0]==a[2] or a[1]==a[3]:\n",
    "        print('YES')\n",
    "    else:\n",
    "        print('NO')"
   ]
  },
  {
   "cell_type": "markdown",
   "id": "8542cd55",
   "metadata": {},
   "source": [
    "## Chef and Happy String [HAPPYSTR](https://www.codechef.com/problems/HAPPYSTR)\n",
    "good question to pratice regex"
   ]
  },
  {
   "cell_type": "code",
   "execution_count": null,
   "id": "427e997f",
   "metadata": {},
   "outputs": [],
   "source": [
    "# cook your dish here\n",
    "import re\n",
    "\n",
    "for _ in range(int(input())):\n",
    "    a= input()\n",
    "    if re.search(r'[aeiou]{3,}',a):\n",
    "        print('Happy')\n",
    "    else:\n",
    "        print('Sad')\n",
    "    "
   ]
  },
  {
   "cell_type": "markdown",
   "id": "b3199ea9",
   "metadata": {},
   "source": [
    "## La Liga [COOK82A](https://www.codechef.com/problems/COOK82A)"
   ]
  },
  {
   "cell_type": "code",
   "execution_count": null,
   "id": "bc68cd92",
   "metadata": {},
   "outputs": [],
   "source": [
    "# cook your dish here\n",
    "for _ in range(int(input())):\n",
    "    teams = {\"Barcelona\": 0, \n",
    "        \"Malaga\": 0,\n",
    "        \"RealMadrid\": 0,\n",
    "        \"Eibar\": 0\n",
    "    }\n",
    "    for i in range (4):\n",
    "        a, b = input().split()\n",
    "        teams[a] = b\n",
    "    if teams[\"Barcelona\"] > teams[\"Eibar\"] and teams[\"RealMadrid\"] < teams[\"Malaga\"]:\n",
    "        print('Barcelona')\n",
    "    else:\n",
    "        print(\"RealMadrid\")"
   ]
  },
  {
   "cell_type": "markdown",
   "id": "940dec97",
   "metadata": {},
   "source": [
    "## Marathon [MARARUN](https://www.codechef.com/problems/MARARUN)"
   ]
  },
  {
   "cell_type": "code",
   "execution_count": null,
   "id": "78f832e3",
   "metadata": {},
   "outputs": [],
   "source": [
    "# cook your dish here\n",
    "for _ in range(int(input())):\n",
    "    day, dis, a, b , c = list(map(int, input().split()))\n",
    "    dis_covered = day*dis\n",
    "    if dis_covered >= 10:\n",
    "        if dis_covered >= 21:\n",
    "            if dis_covered >= 42:\n",
    "                print(c)\n",
    "            else:\n",
    "                print(b)\n",
    "        else:\n",
    "            print(a)\n",
    "    else:\n",
    "        print(0)"
   ]
  },
  {
   "cell_type": "markdown",
   "id": "1199c80a",
   "metadata": {},
   "source": [
    "## The Old Saint And Three Questions [THREEQ](https://www.codechef.com/problems/THREEQ)"
   ]
  },
  {
   "cell_type": "code",
   "execution_count": null,
   "id": "8dab06f3",
   "metadata": {},
   "outputs": [],
   "source": [
    "# cook your dish here\n",
    "for _ in range(int(input())):\n",
    "    a = list(map(int, input().split()))\n",
    "    b = list(map(int, input().split()))\n",
    "    ao = a.count(1)\n",
    "    bo = b.count(1)\n",
    "    if ao==bo:\n",
    "        print('Pass')\n",
    "    else: print('Fail')"
   ]
  },
  {
   "cell_type": "markdown",
   "id": "88704d31",
   "metadata": {},
   "source": [
    "## Chef and Interactive Contests [CHFINTRO](https://www.codechef.com/problems/CHFINTRO)"
   ]
  },
  {
   "cell_type": "code",
   "execution_count": null,
   "id": "cb1bf653",
   "metadata": {},
   "outputs": [],
   "source": [
    "# cook your dish here\n",
    "n, r = map(int, input().split())\n",
    "for _ in range(n):\n",
    "    rating = int(input())\n",
    "    if rating >= r: print('Good boi') \n",
    "    else: print('Bad boi')"
   ]
  },
  {
   "cell_type": "markdown",
   "id": "a7285fdc",
   "metadata": {},
   "source": [
    "<hr/>\n",
    " 1000 - 1200 <br/>\n",
    " 1* Beginner Level\n",
    "<hr/>\n"
   ]
  },
  {
   "cell_type": "markdown",
   "id": "cd3f3b8a",
   "metadata": {},
   "source": [
    "## Easy Pronunciation [EZSPEAK](https://www.codechef.com/problems/EZSPEAK)"
   ]
  },
  {
   "cell_type": "code",
   "execution_count": 8,
   "id": "c474e0bc",
   "metadata": {},
   "outputs": [
    {
     "name": "stdout",
     "output_type": "stream",
     "text": [
      "0\n",
      "i: 0\n",
      "sub: cry\n",
      "NO\n"
     ]
    }
   ],
   "source": [
    "# cook your dish here\n",
    "import re\n",
    "\n",
    "for _ in range(int(input())):\n",
    "    n = int(input())\n",
    "    words = input()\n",
    "    \n",
    "    if re.search(r'[^aeiou]{4,}',words):\n",
    "        print('NO')\n",
    "    else:\n",
    "        print('YES')"
   ]
  },
  {
   "cell_type": "markdown",
   "id": "af874f07",
   "metadata": {},
   "source": [
    "## ATM Machine [ATM2](https://www.codechef.com/problems/ATM2)"
   ]
  },
  {
   "cell_type": "code",
   "execution_count": 10,
   "id": "64b8e554",
   "metadata": {},
   "outputs": [
    {
     "name": "stdout",
     "output_type": "stream",
     "text": [
      "w\n"
     ]
    }
   ],
   "source": [
    "# cook your dish here\n",
    "for _ in range(int(input())):\n",
    "    n, k = map(int, input().split())\n",
    "    amounts = list(map(int, input().split()))\n",
    "    res = ''\n",
    "    for amount in amounts:\n",
    "        if amount <= k:\n",
    "            k -= amount\n",
    "            res += '1'\n",
    "        else:\n",
    "            res += '0'\n",
    "    print(res)"
   ]
  },
  {
   "cell_type": "markdown",
   "id": "029ecf53",
   "metadata": {},
   "source": [
    "## Chef and Dolls [MISSP](https://www.codechef.com/problems/MISSP)"
   ]
  },
  {
   "cell_type": "code",
   "execution_count": null,
   "id": "718fcbed",
   "metadata": {},
   "outputs": [],
   "source": [
    "# cook your dish here\n",
    "for _ in range(int(input())):\n",
    "    n = int(input())\n",
    "    types = [int(input()) for i in range(n)]\n",
    "    for typ in types:\n",
    "        if types.count(typ) % 2 != 0:\n",
    "            print(typ)\n",
    "            break\n",
    "   "
   ]
  },
  {
   "cell_type": "markdown",
   "id": "eb571652",
   "metadata": {},
   "source": [
    "## How much Scholarship [ZCOSCH](https://www.codechef.com/problems/ZCOSCH)"
   ]
  },
  {
   "cell_type": "code",
   "execution_count": null,
   "id": "d94be89d",
   "metadata": {},
   "outputs": [],
   "source": [
    "# cook your dish here\n",
    "r = int(input())\n",
    "if r <= 50:\n",
    "    print(100)\n",
    "elif r>= 51 and r <=100:\n",
    "    print(50)\n",
    "else:\n",
    "    print(0)"
   ]
  },
  {
   "cell_type": "markdown",
   "id": "2b7d54d3",
   "metadata": {},
   "source": [
    "## Candies [CNDY](https://www.codechef.com/problems/CNDY)\n",
    "learn about Counter"
   ]
  },
  {
   "cell_type": "code",
   "execution_count": null,
   "id": "6488b6e2",
   "metadata": {},
   "outputs": [],
   "source": [
    "# cook your dish here\n",
    "from collections import Counter\n",
    "\n",
    "for _ in range(int(input())):\n",
    "    n = int(input())\n",
    "    prices = list(map(int, input().split()))\n",
    "    prices_counter = Counter(prices)\n",
    "    filtered_prices = [element for element, count in prices_counter.items() if count > 2]\n",
    "    if len(filtered_prices) == 0:\n",
    "        print('Yes')\n",
    "    else: print('No')\n"
   ]
  },
  {
   "cell_type": "markdown",
   "id": "2e6c290b",
   "metadata": {},
   "source": [
    "## Packaging Cupcakes [MUFFINS3](https://www.codechef.com/problems/MUFFINS3)"
   ]
  },
  {
   "cell_type": "code",
   "execution_count": null,
   "id": "06792550",
   "metadata": {},
   "outputs": [],
   "source": [
    "# cook your dish here\n",
    "for _ in range(int(input())):\n",
    "    n = int(input())\n",
    "    print((n//2)+1)"
   ]
  },
  {
   "cell_type": "markdown",
   "id": "daf52c3c",
   "metadata": {},
   "source": [
    "## Chef Diet [DIET](https://www.codechef.com/problems/DIET)"
   ]
  },
  {
   "cell_type": "code",
   "execution_count": null,
   "id": "bf643c32",
   "metadata": {},
   "outputs": [],
   "source": [
    "# cook your dish here\n",
    "for _ in range(int(input())):\n",
    "    n, k = map(int, input().split())\n",
    "    a = list(map(int, input().split()))\n",
    "    flag = True\n",
    "    for index, value in enumerate(a):\n",
    "        if value < k:\n",
    "            print(f'NO {index+1}')\n",
    "            flag = False\n",
    "            break\n",
    "        else:\n",
    "            if index != n-1:\n",
    "                a[index+1] += value-k\n",
    "    if flag: print('YES')"
   ]
  },
  {
   "cell_type": "markdown",
   "id": "fa99c9dc",
   "metadata": {},
   "source": [
    "## Break the Stick [BREAKSTICK](https://www.codechef.com/problems/BREAKSTICK)\n",
    "didn't understand the sol.. just copied. my version was failing at one edge case"
   ]
  },
  {
   "cell_type": "code",
   "execution_count": null,
   "id": "5c1a33eb",
   "metadata": {},
   "outputs": [],
   "source": [
    "# cook your dish here\n",
    "for _ in range(int(input())):\n",
    "    n, x = map(int, input().split())\n",
    "    if n%2 == 0 or x%2 !=0:\n",
    "        print('YES')\n",
    "    else: print('NO')"
   ]
  },
  {
   "cell_type": "markdown",
   "id": "a776ceb3",
   "metadata": {},
   "source": [
    "## Encoding Message [ENCMSG](https://www.codechef.com/problems/ENCMSG)"
   ]
  },
  {
   "cell_type": "code",
   "execution_count": 21,
   "id": "b9a228d0",
   "metadata": {},
   "outputs": [
    {
     "name": "stdout",
     "output_type": "stream",
     "text": [
      "sxuv\n"
     ]
    }
   ],
   "source": [
    "# cook your dish here\n",
    "for _ in range(int(input())):\n",
    "    n = int(input())\n",
    "    s = input()\n",
    "    \n",
    "    str_list = list(s)\n",
    "    leng = 0\n",
    "    if len(str_list) % 2==0:\n",
    "        leng = len(str_list)\n",
    "    else: leng = len(str_list)-1\n",
    "    \n",
    "    for i in range(0, leng ,2):\n",
    "        str_list[i], str_list[i+1] = str_list[i+1], str_list[i]\n",
    "    for i in range(len(str_list)):\n",
    "        str_list[i] = chr(ord('z') -  ord(str_list[i]) + ord('a'))\n",
    "        \n",
    "    f_str = ''.join(str_list)\n",
    "    print(f_str)"
   ]
  },
  {
   "cell_type": "markdown",
   "id": "6e692614",
   "metadata": {},
   "source": [
    "## Bear and Candies 123 [CANDY123](https://www.codechef.com/problems/CANDY123)"
   ]
  },
  {
   "cell_type": "code",
   "execution_count": null,
   "id": "93792485",
   "metadata": {},
   "outputs": [],
   "source": [
    "# cook your dish here\n",
    "for _ in range(int(input())):\n",
    "    a, b = map(int, input().split())\n",
    "    limak, bob = 0,0\n",
    "    index = 1\n",
    "    while True:\n",
    "        if (index%2 != 0): limak += index\n",
    "        else: bob += index\n",
    "        \n",
    "        if limak > a: \n",
    "            print('Bob')\n",
    "            break\n",
    "        if bob > b:\n",
    "            print('Limak')\n",
    "            break\n",
    "        index += 1\n",
    "        "
   ]
  },
  {
   "cell_type": "markdown",
   "id": "9ee181cb",
   "metadata": {},
   "source": [
    "## Program Your Own CALCULATOR [URCALC](https://www.codechef.com/problems/URCALC)"
   ]
  },
  {
   "cell_type": "code",
   "execution_count": 1,
   "id": "9f1f2108",
   "metadata": {},
   "outputs": [
    {
     "name": "stdout",
     "output_type": "stream",
     "text": [
      "5\n"
     ]
    }
   ],
   "source": [
    "a = int(input())\n",
    "b = int(input())\n",
    "c = input()\n",
    "match c:\n",
    "    case '+': print(a+b) \n",
    "    case '-': print(a-b)\n",
    "    case '*': print(a*b)\n",
    "    case '/': print(a/b)"
   ]
  },
  {
   "cell_type": "markdown",
   "id": "f45e048e",
   "metadata": {},
   "source": [
    "## Elections in Chefland [ELECTIONS](https://www.codechef.com/problems/ELECTIONS)"
   ]
  },
  {
   "cell_type": "code",
   "execution_count": null,
   "id": "fe8cce40",
   "metadata": {},
   "outputs": [],
   "source": [
    "# cook your dish here\n",
    "for _ in range(int(input())):\n",
    "    a, b, c = map(int, input().split())\n",
    "    if a > 50: print('A')\n",
    "    elif b > 50: print('B')\n",
    "    elif c > 50: print('C')\n",
    "    else: print('NOTA')"
   ]
  },
  {
   "cell_type": "markdown",
   "id": "f268c716",
   "metadata": {},
   "source": [
    "## Chef and Two Strings [CHEFSTLT](https://www.codechef.com/problems/CHEFSTLT)\n",
    "good question.. i used my brain here"
   ]
  },
  {
   "cell_type": "code",
   "execution_count": null,
   "id": "6d3e6867",
   "metadata": {},
   "outputs": [],
   "source": [
    "# cook your dish here\n",
    "for _ in range(int(input())):\n",
    "    s1 = input()\n",
    "    s2 = input()\n",
    "    min_error, max_error = 0,0\n",
    "    for i in range(len(s1)):\n",
    "        if s1[i] != '?' and s2[i] != '?' and s1[i] != s2[i] : min_error += 1\n",
    "        if not (s1[i] == s2[i]) or s1[i] == '?' or s2[i]=='?' : max_error += 1\n",
    "    print(f'{min_error} {max_error}')\n",
    "        "
   ]
  },
  {
   "cell_type": "markdown",
   "id": "b7e4d2f2",
   "metadata": {},
   "source": [
    "## Buying New Tablet [TABLET](https://www.codechef.com/problems/TABLET)"
   ]
  },
  {
   "cell_type": "code",
   "execution_count": null,
   "id": "c23e1e41",
   "metadata": {},
   "outputs": [],
   "source": [
    "# cook your dish here\n",
    "for _ in range(int(input())):\n",
    "    n, b = map(int, input().split())\n",
    "    max_area = 0\n",
    "    for i in range(n):\n",
    "        w,h,p = map(int, input().split())\n",
    "        if p <= b:\n",
    "            area = w*h\n",
    "            if area > max_area:\n",
    "                max_area = area \n",
    "    result  = max_area if max_area != 0 else 'no tablet'\n",
    "    print(result)\n",
    "                \n",
    "        "
   ]
  },
  {
   "cell_type": "markdown",
   "id": "3e9be967",
   "metadata": {},
   "source": [
    "## Card Removal [REMOVECARDS](https://www.codechef.com/problems/REMOVECARDS)"
   ]
  },
  {
   "cell_type": "code",
   "execution_count": 28,
   "id": "6ad33c99",
   "metadata": {},
   "outputs": [
    {
     "name": "stdout",
     "output_type": "stream",
     "text": [
      "1\n"
     ]
    }
   ],
   "source": [
    "# cook your dish here\n",
    "from collections import Counter\n",
    "\n",
    "for _ in range(int(input())):\n",
    "    n = int(input())\n",
    "    a = list(map(int, input().split()))\n",
    "    counter = Counter(a)\n",
    "    c = counter.most_common(1)[0][1]\n",
    "    if c==1: print(n-1)\n",
    "    else: print(n-c)"
   ]
  },
  {
   "cell_type": "markdown",
   "id": "60f8badc",
   "metadata": {},
   "source": [
    "## Even-tual Reduction [EVENTUAL](https://www.codechef.com/problems/EVENTUAL)"
   ]
  },
  {
   "cell_type": "code",
   "execution_count": null,
   "id": "3bfdc627",
   "metadata": {},
   "outputs": [],
   "source": [
    "# cook your dish here\n",
    "for _ in range(int(input())):\n",
    "    n = int(input())\n",
    "    s = input()\n",
    "    if n%2==0:\n",
    "        set_s = set(s)\n",
    "        flag = True\n",
    "        for i in set_s:\n",
    "            if s.count(i) % 2 != 0:\n",
    "                flag = False\n",
    "                break\n",
    "        if flag: print('YES')\n",
    "        else: print('NO')\n",
    "    else: print('NO')\n",
    "        "
   ]
  },
  {
   "cell_type": "markdown",
   "id": "dd9f74e2",
   "metadata": {},
   "source": [
    "## Apples and oranges [APPLEORANGE](https://www.codechef.com/problems/APPLEORANGE)"
   ]
  },
  {
   "cell_type": "code",
   "execution_count": null,
   "id": "5ba73990",
   "metadata": {},
   "outputs": [],
   "source": [
    "# cook your dish here\n",
    "import math\n",
    "for i in range(int(input())):\n",
    "    n,m=map(int,input().split())\n",
    "    ans=math.gcd(n,m)\n",
    "    print(ans)"
   ]
  },
  {
   "cell_type": "markdown",
   "id": "360628bd",
   "metadata": {},
   "source": [
    "## Airline Restrictions [AIRLINE](https://www.codechef.com/problems/AIRLINE)"
   ]
  },
  {
   "cell_type": "code",
   "execution_count": 8,
   "id": "e6932d9e",
   "metadata": {},
   "outputs": [
    {
     "name": "stdout",
     "output_type": "stream",
     "text": [
      "[10, 8, 2, 1]\n"
     ]
    }
   ],
   "source": [
    "for _ in range(int(input())):\n",
    "    a,b,c,d,e = map(int, input().split())\n",
    "    if (a+b<=d and c<=e) or (b+c<=d and a<=e) or (a+c<=d and b<=e):\n",
    "        print(\"YES\")\n",
    "    else:\n",
    "        print(\"NO\")"
   ]
  },
  {
   "cell_type": "markdown",
   "id": "600d050e",
   "metadata": {},
   "source": [
    "## Zero String [ZEROSTRING](https://www.codechef.com/problems/ZEROSTRING)"
   ]
  },
  {
   "cell_type": "code",
   "execution_count": null,
   "id": "60f2a5df",
   "metadata": {},
   "outputs": [],
   "source": [
    "# cook your dish here\n",
    "for _ in range(int(input())):\n",
    "    n = int(input())\n",
    "    s = input()\n",
    "    ones = s.count('1')\n",
    "    zeroes = s.count('0')\n",
    "    \n",
    "    if zeroes < ones:\n",
    "        print(zeroes+1)\n",
    "    else: print(ones)"
   ]
  }
 ],
 "metadata": {
  "kernelspec": {
   "display_name": "Python 3 (ipykernel)",
   "language": "python",
   "name": "python3"
  },
  "language_info": {
   "codemirror_mode": {
    "name": "ipython",
    "version": 3
   },
   "file_extension": ".py",
   "mimetype": "text/x-python",
   "name": "python",
   "nbconvert_exporter": "python",
   "pygments_lexer": "ipython3",
   "version": "3.10.4"
  }
 },
 "nbformat": 4,
 "nbformat_minor": 5
}
