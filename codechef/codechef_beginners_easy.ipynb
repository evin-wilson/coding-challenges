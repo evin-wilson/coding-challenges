{
 "cells": [
  {
   "cell_type": "markdown",
   "id": "4a6f9877-d946-4c32-bc5e-8a2cb01f17a6",
   "metadata": {},
   "source": [
    "## [SQUATS](https://www.codechef.com/problems/SQUATS)"
   ]
  },
  {
   "cell_type": "code",
   "execution_count": null,
   "id": "6abc6db6-1302-47d5-8ab3-89175a37d6e7",
   "metadata": {
    "scrolled": true
   },
   "outputs": [],
   "source": [
    "T = int(input('no of testcase'))\n",
    "for _ in range(T):\n",
    "    no_of_set = int(input('no of set'))\n",
    "    no_of_squat = no_of_set * 15\n",
    "    print(no_of_squat)"
   ]
  },
  {
   "cell_type": "markdown",
   "id": "bac5b4fb-2464-4313-93ec-52f64bd5ef61",
   "metadata": {},
   "source": [
    "## [TAXSAVING](https://www.codechef.com/problems/TAXSAVING)\n",
    "---"
   ]
  },
  {
   "cell_type": "code",
   "execution_count": null,
   "id": "932dd0ef-db0a-4b5c-b1b8-ec2bf1d67336",
   "metadata": {},
   "outputs": [],
   "source": [
    "# cook your dish here\n",
    "T = int(input())\n",
    "for _ in range(T):\n",
    "    income, min_tax_income = map(int, input().split())\n",
    "    amount_to_invest = income - min_tax_income\n",
    "    print(amount_to_invest)"
   ]
  },
  {
   "cell_type": "markdown",
   "id": "1ea74ecd-1c10-427b-8fac-f4cb2db11a31",
   "metadata": {},
   "source": [
    "## [WATERCONS](https://www.codechef.com/problems/WATERCONS)"
   ]
  },
  {
   "cell_type": "code",
   "execution_count": null,
   "id": "0de9ac10-760d-484d-8fe1-e96c9e9907a4",
   "metadata": {},
   "outputs": [],
   "source": [
    "# cook your dish here\n",
    "T = int(input())\n",
    "for _ in range(T):\n",
    "    x = int(input())\n",
    "    print('YES') if  x >= 2000 else print('NO')"
   ]
  },
  {
   "cell_type": "markdown",
   "id": "40f8266a-c8af-4985-9adb-f5d482ea6f0a",
   "metadata": {},
   "source": [
    "## Chess match [BLITZ3_2](https://www.codechef.com/problems/BLITZ3_2)"
   ]
  },
  {
   "cell_type": "code",
   "execution_count": null,
   "id": "152d4ee5-8158-48c1-867b-c26ba5277746",
   "metadata": {},
   "outputs": [],
   "source": [
    "# cook your dish here\n",
    "T = int(input())\n",
    "\n",
    "for _ in range(T):\n",
    "    N, A, B = map(int, input().split())\n",
    "    total_time_left = A + B\n",
    "    total_time_given = 2*(180+N)\n",
    "    print(total_time_given - total_time_left)"
   ]
  },
  {
   "cell_type": "markdown",
   "id": "5989d7c6-7903-4748-893f-7c0f4c91b4c0",
   "metadata": {},
   "source": [
    "## Lucky Four [LUCKYFR](https://www.codechef.com/problems/LUCKYFR)"
   ]
  },
  {
   "cell_type": "code",
   "execution_count": null,
   "id": "a671b15e",
   "metadata": {},
   "outputs": [],
   "source": [
    "# cook your dish here\n",
    "for _ in range(int(input())):\n",
    "    print(input().count('4'))"
   ]
  },
  {
   "cell_type": "markdown",
   "id": "66ad9ea6",
   "metadata": {},
   "source": [
    "## Kitchen Timetable [KTTABLE](https://www.codechef.com/problems/KTTABLE)"
   ]
  },
  {
   "cell_type": "code",
   "execution_count": null,
   "id": "489ee4c0",
   "metadata": {},
   "outputs": [],
   "source": [
    "# cook your dish here\n",
    "for _ in range(int(input())):\n",
    "    no_of_children = int(input())\n",
    "    allocated_time = list(map(int, input().split()))\n",
    "    required_time = list(map(int, input().split()))\n",
    "    can_do = 0\n",
    "    for i in range(no_of_children):\n",
    "        if (i==0):\n",
    "            if  required_time[i]<=allocated_time[i] :\n",
    "                can_do += 1\n",
    "        else:\n",
    "            if required_time[i]<=allocated_time[i] - allocated_time[i-1]:\n",
    "                can_do += 1\n",
    "    print(can_do)\n",
    "            "
   ]
  },
  {
   "cell_type": "markdown",
   "id": "7a3b682e",
   "metadata": {},
   "source": [
    "## Balls and Boxes [BALLBOX](https://www.codechef.com/problems/BALLBOX)"
   ]
  },
  {
   "cell_type": "code",
   "execution_count": null,
   "id": "9dbcf6ac",
   "metadata": {},
   "outputs": [],
   "source": [
    "for _ in range(int(input())):\n",
    "    n,k = map(int,input().split())\n",
    "    req = k*(k+1)//2\n",
    "    if n>=req:\n",
    "        print('YES')\n",
    "    else:\n",
    "        print(\"NO\")"
   ]
  },
  {
   "cell_type": "markdown",
   "id": "8159f6e7",
   "metadata": {},
   "source": [
    "## Dark Light [DARLIG](https://www.codechef.com/problems/DARLIG)"
   ]
  },
  {
   "cell_type": "code",
   "execution_count": 4,
   "id": "0069bf12",
   "metadata": {},
   "outputs": [
    {
     "name": "stdout",
     "output_type": "stream",
     "text": [
      "2\n"
     ]
    }
   ],
   "source": [
    "# cook your dish here\n",
    "for _ in range(int(input())):\n",
    "    n, k = map(int, input().split())\n",
    "    if (k == 0):\n",
    "        if (n % 4 != 0):\n",
    "            print(\"ON\")\n",
    "        else:\n",
    "            print(\"OFF\")\n",
    "    else:\n",
    "        if (n % 4 != 0):\n",
    "            print(\"AMBIGUOUS\")\n",
    "        else:\n",
    "            print(\"ON\")"
   ]
  },
  {
   "cell_type": "markdown",
   "id": "bc7aa205",
   "metadata": {},
   "source": [
    "## DDMM or MMDD [DDMMORMMDD](https://www.codechef.com/problems/DDMMORMMDD)"
   ]
  },
  {
   "cell_type": "code",
   "execution_count": null,
   "id": "0bd05fef",
   "metadata": {},
   "outputs": [],
   "source": [
    "# cook your dish here\n",
    "for _ in range(int(input())):\n",
    "    day, month, year = map(int, input().split('/'))\n",
    "    if day <= 12:\n",
    "        if month <= 12:\n",
    "            print('BOTH')\n",
    "        else:\n",
    "            print('MM/DD/YYYY')\n",
    "    else:\n",
    "        print('DD/MM/YYYY')\n",
    "        "
   ]
  },
  {
   "cell_type": "markdown",
   "id": "f468c97a",
   "metadata": {},
   "source": [
    "## Keplers Law [KEPLERSLAW](https://www.codechef.com/problems/KEPLERSLAW)"
   ]
  },
  {
   "cell_type": "code",
   "execution_count": null,
   "id": "c0981d0e",
   "metadata": {},
   "outputs": [],
   "source": [
    "# cook your dish here\n",
    "for _ in range(int(input())):\n",
    "    t1, t2, r1, r2 = map(int, input().split())\n",
    "    if (t1**2/r1**3) == (t2**2/r2**3):\n",
    "        print('Yes')\n",
    "    else:\n",
    "        print('No')"
   ]
  },
  {
   "cell_type": "markdown",
   "id": "39bc91d4",
   "metadata": {},
   "source": [
    "## Game between friends [FRGAME](https://www.codechef.com/problems/FRGAME)"
   ]
  },
  {
   "cell_type": "code",
   "execution_count": 9,
   "id": "acaff46f",
   "metadata": {},
   "outputs": [
    {
     "name": "stdout",
     "output_type": "stream",
     "text": [
      "{'N': 3, 'S': 1}\n",
      "{'N': 6, 'S': 1}\n",
      "S\n"
     ]
    }
   ],
   "source": [
    "# cook your dish here\n",
    "for i in range(int(input())):\n",
    "    a,b,c,d=map(int,input().split())\n",
    "    for i in range(2):\n",
    "        if(a>=b):\n",
    "            b+=c\n",
    "            c=d\n",
    "        else:\n",
    "            a+=c\n",
    "            c=d\n",
    "    if(a>=b):\n",
    "        print('N')\n",
    "    else:print('S')"
   ]
  },
  {
   "cell_type": "markdown",
   "id": "7ad03179",
   "metadata": {},
   "source": [
    "## Naive Chef [NAICHEF](https://www.codechef.com/problems/NAICHEF)\n",
    "need probability knowledge"
   ]
  },
  {
   "cell_type": "code",
   "execution_count": 12,
   "id": "4a6b62db",
   "metadata": {},
   "outputs": [
    {
     "name": "stdout",
     "output_type": "stream",
     "text": [
      "2.000000\n"
     ]
    }
   ],
   "source": [
    "# cook your dish here\n",
    "for i in range(int(input())):\n",
    "    n, a, b = map(int,input().split())\n",
    "    no = list( map(int,input().split()) )\n",
    "    a_no = no.count(a)\n",
    "    b_no = no.count(b)\n",
    "    res = ( (a_no*b_no)/n**2)\n",
    "    print(res)"
   ]
  },
  {
   "cell_type": "markdown",
   "id": "b38555f7",
   "metadata": {},
   "source": [
    "## Can_Reach [CAN_REACH](https://www.codechef.com/problems/CAN_REACH)\n",
    "good question for me.. i was doing wrong. thinked wrongly for first tiome. only hen looked at logic only came to know the fault"
   ]
  },
  {
   "cell_type": "code",
   "execution_count": 15,
   "id": "938d1b6b",
   "metadata": {},
   "outputs": [
    {
     "name": "stdout",
     "output_type": "stream",
     "text": [
      "NO\n"
     ]
    }
   ],
   "source": [
    "# cook your dish here\n",
    "for i in range(int(input())):\n",
    "    x, y, k = map(int,input().split())\n",
    "    if abs(x)%k != 0 or abs(y)%k!=0:\n",
    "        print('NO')\n",
    "    else:\n",
    "        print('YES')"
   ]
  }
 ],
 "metadata": {
  "kernelspec": {
   "display_name": "Python 3 (ipykernel)",
   "language": "python",
   "name": "python3"
  },
  "language_info": {
   "codemirror_mode": {
    "name": "ipython",
    "version": 3
   },
   "file_extension": ".py",
   "mimetype": "text/x-python",
   "name": "python",
   "nbconvert_exporter": "python",
   "pygments_lexer": "ipython3",
   "version": "3.10.4"
  }
 },
 "nbformat": 4,
 "nbformat_minor": 5
}
